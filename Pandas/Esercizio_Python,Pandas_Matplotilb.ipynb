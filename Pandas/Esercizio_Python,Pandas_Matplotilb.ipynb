{
  "nbformat": 4,
  "nbformat_minor": 0,
  "metadata": {
    "colab": {
      "provenance": []
    },
    "kernelspec": {
      "name": "python3",
      "display_name": "Python 3"
    },
    "language_info": {
      "name": "python"
    }
  },
  "cells": [
    {
      "cell_type": "markdown",
      "source": [
        "Prendere in considerazione le informazioni presenti al link\n",
        "\n",
        "https://raw.githubusercontent.com/italia/covid19-opendata-vaccini/master/dati/consegne-vaccini-latest.csv\n",
        "\n",
        "riguardanti le consegne dei vaccini in varie regioni d'Italia. Scrivere un notebook che permetta di\n",
        "effettuare le seguenti analisi su questi dati:"
      ],
      "metadata": {
        "id": "GSSvex-1jJwZ"
      }
    },
    {
      "cell_type": "code",
      "source": [
        "import pandas as pd\n",
        "\n",
        "df = pd.read_csv('https://raw.githubusercontent.com/italia/covid19-opendata-vaccini/master/dati/consegne-vaccini-latest.csv')\n",
        "df"
      ],
      "metadata": {
        "colab": {
          "base_uri": "https://localhost:8080/",
          "height": 424
        },
        "id": "RPEjefAEjxIL",
        "outputId": "995960cc-6959-4326-b984-f207315fba26"
      },
      "execution_count": null,
      "outputs": [
        {
          "output_type": "execute_result",
          "data": {
            "text/plain": [
              "     area               forn  numero_dosi data_consegna   N1    N2  ISTAT  \\\n",
              "0     ABR    Pfizer/BioNTech          135    2020-12-27  ITF  ITF1     13   \n",
              "1     ABR    Pfizer/BioNTech         7800    2020-12-30  ITF  ITF1     13   \n",
              "2     ABR    Pfizer/BioNTech         3900    2021-01-05  ITF  ITF1     13   \n",
              "3     ABR    Pfizer/BioNTech         3900    2021-01-07  ITF  ITF1     13   \n",
              "4     ABR    Pfizer/BioNTech         3900    2021-01-11  ITF  ITF1     13   \n",
              "...   ...                ...          ...           ...  ...   ...    ...   \n",
              "7571  VEN            Moderna        72600    2022-09-26  ITH  ITH3      5   \n",
              "7572  VEN    Pfizer/BioNTech        77760    2022-10-20  ITH  ITH3      5   \n",
              "7573  VEN  Pfizer Pediatrico        38400    2022-10-31  ITH  ITH3      5   \n",
              "7574  VEN    Pfizer/BioNTech        77760    2022-11-15  ITH  ITH3      5   \n",
              "7575  VEN  Pfizer Pediatrico         4800    2022-11-23  ITH  ITH3      5   \n",
              "\n",
              "          reg  \n",
              "0     Abruzzo  \n",
              "1     Abruzzo  \n",
              "2     Abruzzo  \n",
              "3     Abruzzo  \n",
              "4     Abruzzo  \n",
              "...       ...  \n",
              "7571   Veneto  \n",
              "7572   Veneto  \n",
              "7573   Veneto  \n",
              "7574   Veneto  \n",
              "7575   Veneto  \n",
              "\n",
              "[7576 rows x 8 columns]"
            ],
            "text/html": [
              "\n",
              "  <div id=\"df-2bf6aa24-4c43-47df-b0b3-0e1918b3dbd4\">\n",
              "    <div class=\"colab-df-container\">\n",
              "      <div>\n",
              "<style scoped>\n",
              "    .dataframe tbody tr th:only-of-type {\n",
              "        vertical-align: middle;\n",
              "    }\n",
              "\n",
              "    .dataframe tbody tr th {\n",
              "        vertical-align: top;\n",
              "    }\n",
              "\n",
              "    .dataframe thead th {\n",
              "        text-align: right;\n",
              "    }\n",
              "</style>\n",
              "<table border=\"1\" class=\"dataframe\">\n",
              "  <thead>\n",
              "    <tr style=\"text-align: right;\">\n",
              "      <th></th>\n",
              "      <th>area</th>\n",
              "      <th>forn</th>\n",
              "      <th>numero_dosi</th>\n",
              "      <th>data_consegna</th>\n",
              "      <th>N1</th>\n",
              "      <th>N2</th>\n",
              "      <th>ISTAT</th>\n",
              "      <th>reg</th>\n",
              "    </tr>\n",
              "  </thead>\n",
              "  <tbody>\n",
              "    <tr>\n",
              "      <th>0</th>\n",
              "      <td>ABR</td>\n",
              "      <td>Pfizer/BioNTech</td>\n",
              "      <td>135</td>\n",
              "      <td>2020-12-27</td>\n",
              "      <td>ITF</td>\n",
              "      <td>ITF1</td>\n",
              "      <td>13</td>\n",
              "      <td>Abruzzo</td>\n",
              "    </tr>\n",
              "    <tr>\n",
              "      <th>1</th>\n",
              "      <td>ABR</td>\n",
              "      <td>Pfizer/BioNTech</td>\n",
              "      <td>7800</td>\n",
              "      <td>2020-12-30</td>\n",
              "      <td>ITF</td>\n",
              "      <td>ITF1</td>\n",
              "      <td>13</td>\n",
              "      <td>Abruzzo</td>\n",
              "    </tr>\n",
              "    <tr>\n",
              "      <th>2</th>\n",
              "      <td>ABR</td>\n",
              "      <td>Pfizer/BioNTech</td>\n",
              "      <td>3900</td>\n",
              "      <td>2021-01-05</td>\n",
              "      <td>ITF</td>\n",
              "      <td>ITF1</td>\n",
              "      <td>13</td>\n",
              "      <td>Abruzzo</td>\n",
              "    </tr>\n",
              "    <tr>\n",
              "      <th>3</th>\n",
              "      <td>ABR</td>\n",
              "      <td>Pfizer/BioNTech</td>\n",
              "      <td>3900</td>\n",
              "      <td>2021-01-07</td>\n",
              "      <td>ITF</td>\n",
              "      <td>ITF1</td>\n",
              "      <td>13</td>\n",
              "      <td>Abruzzo</td>\n",
              "    </tr>\n",
              "    <tr>\n",
              "      <th>4</th>\n",
              "      <td>ABR</td>\n",
              "      <td>Pfizer/BioNTech</td>\n",
              "      <td>3900</td>\n",
              "      <td>2021-01-11</td>\n",
              "      <td>ITF</td>\n",
              "      <td>ITF1</td>\n",
              "      <td>13</td>\n",
              "      <td>Abruzzo</td>\n",
              "    </tr>\n",
              "    <tr>\n",
              "      <th>...</th>\n",
              "      <td>...</td>\n",
              "      <td>...</td>\n",
              "      <td>...</td>\n",
              "      <td>...</td>\n",
              "      <td>...</td>\n",
              "      <td>...</td>\n",
              "      <td>...</td>\n",
              "      <td>...</td>\n",
              "    </tr>\n",
              "    <tr>\n",
              "      <th>7571</th>\n",
              "      <td>VEN</td>\n",
              "      <td>Moderna</td>\n",
              "      <td>72600</td>\n",
              "      <td>2022-09-26</td>\n",
              "      <td>ITH</td>\n",
              "      <td>ITH3</td>\n",
              "      <td>5</td>\n",
              "      <td>Veneto</td>\n",
              "    </tr>\n",
              "    <tr>\n",
              "      <th>7572</th>\n",
              "      <td>VEN</td>\n",
              "      <td>Pfizer/BioNTech</td>\n",
              "      <td>77760</td>\n",
              "      <td>2022-10-20</td>\n",
              "      <td>ITH</td>\n",
              "      <td>ITH3</td>\n",
              "      <td>5</td>\n",
              "      <td>Veneto</td>\n",
              "    </tr>\n",
              "    <tr>\n",
              "      <th>7573</th>\n",
              "      <td>VEN</td>\n",
              "      <td>Pfizer Pediatrico</td>\n",
              "      <td>38400</td>\n",
              "      <td>2022-10-31</td>\n",
              "      <td>ITH</td>\n",
              "      <td>ITH3</td>\n",
              "      <td>5</td>\n",
              "      <td>Veneto</td>\n",
              "    </tr>\n",
              "    <tr>\n",
              "      <th>7574</th>\n",
              "      <td>VEN</td>\n",
              "      <td>Pfizer/BioNTech</td>\n",
              "      <td>77760</td>\n",
              "      <td>2022-11-15</td>\n",
              "      <td>ITH</td>\n",
              "      <td>ITH3</td>\n",
              "      <td>5</td>\n",
              "      <td>Veneto</td>\n",
              "    </tr>\n",
              "    <tr>\n",
              "      <th>7575</th>\n",
              "      <td>VEN</td>\n",
              "      <td>Pfizer Pediatrico</td>\n",
              "      <td>4800</td>\n",
              "      <td>2022-11-23</td>\n",
              "      <td>ITH</td>\n",
              "      <td>ITH3</td>\n",
              "      <td>5</td>\n",
              "      <td>Veneto</td>\n",
              "    </tr>\n",
              "  </tbody>\n",
              "</table>\n",
              "<p>7576 rows × 8 columns</p>\n",
              "</div>\n",
              "      <button class=\"colab-df-convert\" onclick=\"convertToInteractive('df-2bf6aa24-4c43-47df-b0b3-0e1918b3dbd4')\"\n",
              "              title=\"Convert this dataframe to an interactive table.\"\n",
              "              style=\"display:none;\">\n",
              "        \n",
              "  <svg xmlns=\"http://www.w3.org/2000/svg\" height=\"24px\"viewBox=\"0 0 24 24\"\n",
              "       width=\"24px\">\n",
              "    <path d=\"M0 0h24v24H0V0z\" fill=\"none\"/>\n",
              "    <path d=\"M18.56 5.44l.94 2.06.94-2.06 2.06-.94-2.06-.94-.94-2.06-.94 2.06-2.06.94zm-11 1L8.5 8.5l.94-2.06 2.06-.94-2.06-.94L8.5 2.5l-.94 2.06-2.06.94zm10 10l.94 2.06.94-2.06 2.06-.94-2.06-.94-.94-2.06-.94 2.06-2.06.94z\"/><path d=\"M17.41 7.96l-1.37-1.37c-.4-.4-.92-.59-1.43-.59-.52 0-1.04.2-1.43.59L10.3 9.45l-7.72 7.72c-.78.78-.78 2.05 0 2.83L4 21.41c.39.39.9.59 1.41.59.51 0 1.02-.2 1.41-.59l7.78-7.78 2.81-2.81c.8-.78.8-2.07 0-2.86zM5.41 20L4 18.59l7.72-7.72 1.47 1.35L5.41 20z\"/>\n",
              "  </svg>\n",
              "      </button>\n",
              "      \n",
              "  <style>\n",
              "    .colab-df-container {\n",
              "      display:flex;\n",
              "      flex-wrap:wrap;\n",
              "      gap: 12px;\n",
              "    }\n",
              "\n",
              "    .colab-df-convert {\n",
              "      background-color: #E8F0FE;\n",
              "      border: none;\n",
              "      border-radius: 50%;\n",
              "      cursor: pointer;\n",
              "      display: none;\n",
              "      fill: #1967D2;\n",
              "      height: 32px;\n",
              "      padding: 0 0 0 0;\n",
              "      width: 32px;\n",
              "    }\n",
              "\n",
              "    .colab-df-convert:hover {\n",
              "      background-color: #E2EBFA;\n",
              "      box-shadow: 0px 1px 2px rgba(60, 64, 67, 0.3), 0px 1px 3px 1px rgba(60, 64, 67, 0.15);\n",
              "      fill: #174EA6;\n",
              "    }\n",
              "\n",
              "    [theme=dark] .colab-df-convert {\n",
              "      background-color: #3B4455;\n",
              "      fill: #D2E3FC;\n",
              "    }\n",
              "\n",
              "    [theme=dark] .colab-df-convert:hover {\n",
              "      background-color: #434B5C;\n",
              "      box-shadow: 0px 1px 3px 1px rgba(0, 0, 0, 0.15);\n",
              "      filter: drop-shadow(0px 1px 2px rgba(0, 0, 0, 0.3));\n",
              "      fill: #FFFFFF;\n",
              "    }\n",
              "  </style>\n",
              "\n",
              "      <script>\n",
              "        const buttonEl =\n",
              "          document.querySelector('#df-2bf6aa24-4c43-47df-b0b3-0e1918b3dbd4 button.colab-df-convert');\n",
              "        buttonEl.style.display =\n",
              "          google.colab.kernel.accessAllowed ? 'block' : 'none';\n",
              "\n",
              "        async function convertToInteractive(key) {\n",
              "          const element = document.querySelector('#df-2bf6aa24-4c43-47df-b0b3-0e1918b3dbd4');\n",
              "          const dataTable =\n",
              "            await google.colab.kernel.invokeFunction('convertToInteractive',\n",
              "                                                     [key], {});\n",
              "          if (!dataTable) return;\n",
              "\n",
              "          const docLinkHtml = 'Like what you see? Visit the ' +\n",
              "            '<a target=\"_blank\" href=https://colab.research.google.com/notebooks/data_table.ipynb>data table notebook</a>'\n",
              "            + ' to learn more about interactive tables.';\n",
              "          element.innerHTML = '';\n",
              "          dataTable['output_type'] = 'display_data';\n",
              "          await google.colab.output.renderOutput(dataTable, element);\n",
              "          const docLink = document.createElement('div');\n",
              "          docLink.innerHTML = docLinkHtml;\n",
              "          element.appendChild(docLink);\n",
              "        }\n",
              "      </script>\n",
              "    </div>\n",
              "  </div>\n",
              "  "
            ]
          },
          "metadata": {},
          "execution_count": 2
        }
      ]
    },
    {
      "cell_type": "markdown",
      "source": [
        "1. visualizzare il numero totale di record presenti nel file\n"
      ],
      "metadata": {
        "id": "THhKd16SjMcO"
      }
    },
    {
      "cell_type": "code",
      "source": [
        "len(df)"
      ],
      "metadata": {
        "id": "jPXAvQVDjJiV"
      },
      "execution_count": null,
      "outputs": []
    },
    {
      "cell_type": "code",
      "source": [
        "df.count()"
      ],
      "metadata": {
        "id": "uixamVvZ-mz8"
      },
      "execution_count": null,
      "outputs": []
    },
    {
      "cell_type": "markdown",
      "source": [
        "2. visualizzare il numero di record presenti relativi ad una regione inserita dall'utente\n"
      ],
      "metadata": {
        "id": "WE1IX3eqjNyS"
      }
    },
    {
      "cell_type": "code",
      "execution_count": null,
      "metadata": {
        "id": "Zf-uryKvc0hC"
      },
      "outputs": [],
      "source": [
        "input_utente = input('Inserisci una regione: ')\n",
        "df[df['reg'] == input_utente].count()"
      ]
    },
    {
      "cell_type": "markdown",
      "source": [
        "3. modificare l'esercizio precedente per rispondere con un messaggio appropriato se la regione non è presente\n"
      ],
      "metadata": {
        "id": "n1AK_CKtjPQI"
      }
    },
    {
      "cell_type": "code",
      "source": [
        "input_utente = input('Inserisci una regione: ')\n",
        "if input_utente not in list(df['reg']):\n",
        "  print(\"La regione non esiste\")\n",
        "else:\n",
        "  print(df[df['reg'] == input_utente].count())"
      ],
      "metadata": {
        "id": "7vQhYX6OjQtO"
      },
      "execution_count": null,
      "outputs": []
    },
    {
      "cell_type": "markdown",
      "source": [
        "4. visualizzare il numero totale di vaccini consegnati in una regione inserita dall'utente\n"
      ],
      "metadata": {
        "id": "qd3s4pfBjRUt"
      }
    },
    {
      "cell_type": "code",
      "source": [
        "input_utente2 = input('Inserisci una regione: ')\n",
        "\n",
        "df.groupby(df['reg'][df['reg'] == input_utente2])['numero_dosi'].sum()"
      ],
      "metadata": {
        "id": "x2KluzopjSW_"
      },
      "execution_count": null,
      "outputs": []
    },
    {
      "cell_type": "markdown",
      "source": [
        "5. visualizzare il numero totale di vaccini per ogni fornitore\n"
      ],
      "metadata": {
        "id": "-lTmPDcBjSs1"
      }
    },
    {
      "cell_type": "code",
      "source": [
        "df.groupby('forn')[['numero_dosi']].sum().sort_values(by='numero_dosi',ascending=False).reset_index()"
      ],
      "metadata": {
        "id": "zB-_8q_RjT5H"
      },
      "execution_count": null,
      "outputs": []
    },
    {
      "cell_type": "markdown",
      "source": [
        "6. visualizzare il numero di vaccini per ogni fornitore di una regione inserita dall'utente. Ordinare in ordine\n",
        "decrescente sul numero di vaccini\n"
      ],
      "metadata": {
        "id": "-UylIGsljUFy"
      }
    },
    {
      "cell_type": "code",
      "source": [
        "input_utente3 = input('Inserisci una regione: ')\n",
        "df.groupby(df['forn'][df['reg'] == input_utente2])[['numero_dosi']].sum().sort_values('numero_dosi', ascending=False).reset_index()\n"
      ],
      "metadata": {
        "id": "T9tq6JYGjU-v"
      },
      "execution_count": null,
      "outputs": []
    },
    {
      "cell_type": "markdown",
      "source": [
        "7. visualizzare le informazioni dell'esercizio 6 con un grafico a barre verticali e uno a barre orizzontali. Indicare in modo appropriato il titolo, la legenda e le informazioni presenti negli assi\n"
      ],
      "metadata": {
        "id": "iTVgVFoRjVTM"
      }
    },
    {
      "cell_type": "code",
      "source": [
        "import matplotlib.pyplot as plt\n",
        "import pandas as pd"
      ],
      "metadata": {
        "id": "iqC_wYjpsK4v"
      },
      "execution_count": null,
      "outputs": []
    },
    {
      "cell_type": "code",
      "source": [
        "df_graph = df.groupby(df['forn'][df['reg'] == 'Veneto'])[['numero_dosi']].sum().sort_values('numero_dosi', ascending=False).reset_index()\n",
        "df_graph"
      ],
      "metadata": {
        "id": "u9S_Hd1LtMkL",
        "colab": {
          "base_uri": "https://localhost:8080/",
          "height": 237
        },
        "outputId": "89a35330-460b-4133-ffdf-22e4fcd353a1"
      },
      "execution_count": null,
      "outputs": [
        {
          "output_type": "execute_result",
          "data": {
            "text/plain": [
              "                      forn  numero_dosi\n",
              "0          Pfizer/BioNTech      8858754\n",
              "1                  Moderna      2264209\n",
              "2  Vaxzevria (AstraZeneca)       929079\n",
              "3        Pfizer Pediatrico       627600\n",
              "4                  Janssen       103000\n",
              "5                  Novavax        83200"
            ],
            "text/html": [
              "\n",
              "  <div id=\"df-5fbfbd5d-d2d8-4be5-bfa9-4bc69ceea1fc\">\n",
              "    <div class=\"colab-df-container\">\n",
              "      <div>\n",
              "<style scoped>\n",
              "    .dataframe tbody tr th:only-of-type {\n",
              "        vertical-align: middle;\n",
              "    }\n",
              "\n",
              "    .dataframe tbody tr th {\n",
              "        vertical-align: top;\n",
              "    }\n",
              "\n",
              "    .dataframe thead th {\n",
              "        text-align: right;\n",
              "    }\n",
              "</style>\n",
              "<table border=\"1\" class=\"dataframe\">\n",
              "  <thead>\n",
              "    <tr style=\"text-align: right;\">\n",
              "      <th></th>\n",
              "      <th>forn</th>\n",
              "      <th>numero_dosi</th>\n",
              "    </tr>\n",
              "  </thead>\n",
              "  <tbody>\n",
              "    <tr>\n",
              "      <th>0</th>\n",
              "      <td>Pfizer/BioNTech</td>\n",
              "      <td>8858754</td>\n",
              "    </tr>\n",
              "    <tr>\n",
              "      <th>1</th>\n",
              "      <td>Moderna</td>\n",
              "      <td>2264209</td>\n",
              "    </tr>\n",
              "    <tr>\n",
              "      <th>2</th>\n",
              "      <td>Vaxzevria (AstraZeneca)</td>\n",
              "      <td>929079</td>\n",
              "    </tr>\n",
              "    <tr>\n",
              "      <th>3</th>\n",
              "      <td>Pfizer Pediatrico</td>\n",
              "      <td>627600</td>\n",
              "    </tr>\n",
              "    <tr>\n",
              "      <th>4</th>\n",
              "      <td>Janssen</td>\n",
              "      <td>103000</td>\n",
              "    </tr>\n",
              "    <tr>\n",
              "      <th>5</th>\n",
              "      <td>Novavax</td>\n",
              "      <td>83200</td>\n",
              "    </tr>\n",
              "  </tbody>\n",
              "</table>\n",
              "</div>\n",
              "      <button class=\"colab-df-convert\" onclick=\"convertToInteractive('df-5fbfbd5d-d2d8-4be5-bfa9-4bc69ceea1fc')\"\n",
              "              title=\"Convert this dataframe to an interactive table.\"\n",
              "              style=\"display:none;\">\n",
              "        \n",
              "  <svg xmlns=\"http://www.w3.org/2000/svg\" height=\"24px\"viewBox=\"0 0 24 24\"\n",
              "       width=\"24px\">\n",
              "    <path d=\"M0 0h24v24H0V0z\" fill=\"none\"/>\n",
              "    <path d=\"M18.56 5.44l.94 2.06.94-2.06 2.06-.94-2.06-.94-.94-2.06-.94 2.06-2.06.94zm-11 1L8.5 8.5l.94-2.06 2.06-.94-2.06-.94L8.5 2.5l-.94 2.06-2.06.94zm10 10l.94 2.06.94-2.06 2.06-.94-2.06-.94-.94-2.06-.94 2.06-2.06.94z\"/><path d=\"M17.41 7.96l-1.37-1.37c-.4-.4-.92-.59-1.43-.59-.52 0-1.04.2-1.43.59L10.3 9.45l-7.72 7.72c-.78.78-.78 2.05 0 2.83L4 21.41c.39.39.9.59 1.41.59.51 0 1.02-.2 1.41-.59l7.78-7.78 2.81-2.81c.8-.78.8-2.07 0-2.86zM5.41 20L4 18.59l7.72-7.72 1.47 1.35L5.41 20z\"/>\n",
              "  </svg>\n",
              "      </button>\n",
              "      \n",
              "  <style>\n",
              "    .colab-df-container {\n",
              "      display:flex;\n",
              "      flex-wrap:wrap;\n",
              "      gap: 12px;\n",
              "    }\n",
              "\n",
              "    .colab-df-convert {\n",
              "      background-color: #E8F0FE;\n",
              "      border: none;\n",
              "      border-radius: 50%;\n",
              "      cursor: pointer;\n",
              "      display: none;\n",
              "      fill: #1967D2;\n",
              "      height: 32px;\n",
              "      padding: 0 0 0 0;\n",
              "      width: 32px;\n",
              "    }\n",
              "\n",
              "    .colab-df-convert:hover {\n",
              "      background-color: #E2EBFA;\n",
              "      box-shadow: 0px 1px 2px rgba(60, 64, 67, 0.3), 0px 1px 3px 1px rgba(60, 64, 67, 0.15);\n",
              "      fill: #174EA6;\n",
              "    }\n",
              "\n",
              "    [theme=dark] .colab-df-convert {\n",
              "      background-color: #3B4455;\n",
              "      fill: #D2E3FC;\n",
              "    }\n",
              "\n",
              "    [theme=dark] .colab-df-convert:hover {\n",
              "      background-color: #434B5C;\n",
              "      box-shadow: 0px 1px 3px 1px rgba(0, 0, 0, 0.15);\n",
              "      filter: drop-shadow(0px 1px 2px rgba(0, 0, 0, 0.3));\n",
              "      fill: #FFFFFF;\n",
              "    }\n",
              "  </style>\n",
              "\n",
              "      <script>\n",
              "        const buttonEl =\n",
              "          document.querySelector('#df-5fbfbd5d-d2d8-4be5-bfa9-4bc69ceea1fc button.colab-df-convert');\n",
              "        buttonEl.style.display =\n",
              "          google.colab.kernel.accessAllowed ? 'block' : 'none';\n",
              "\n",
              "        async function convertToInteractive(key) {\n",
              "          const element = document.querySelector('#df-5fbfbd5d-d2d8-4be5-bfa9-4bc69ceea1fc');\n",
              "          const dataTable =\n",
              "            await google.colab.kernel.invokeFunction('convertToInteractive',\n",
              "                                                     [key], {});\n",
              "          if (!dataTable) return;\n",
              "\n",
              "          const docLinkHtml = 'Like what you see? Visit the ' +\n",
              "            '<a target=\"_blank\" href=https://colab.research.google.com/notebooks/data_table.ipynb>data table notebook</a>'\n",
              "            + ' to learn more about interactive tables.';\n",
              "          element.innerHTML = '';\n",
              "          dataTable['output_type'] = 'display_data';\n",
              "          await google.colab.output.renderOutput(dataTable, element);\n",
              "          const docLink = document.createElement('div');\n",
              "          docLink.innerHTML = docLinkHtml;\n",
              "          element.appendChild(docLink);\n",
              "        }\n",
              "      </script>\n",
              "    </div>\n",
              "  </div>\n",
              "  "
            ]
          },
          "metadata": {},
          "execution_count": 4
        }
      ]
    },
    {
      "cell_type": "code",
      "source": [
        "fig,ax = plt.subplots(figsize=(10,8))\n",
        "ax.bar(df_graph['forn'], df_graph['numero_dosi'], label='Numero vaccinati.')\n",
        "ax.set_ylabel('Numero dosi')\n",
        "ax.set_xlabel('Fornitori')\n",
        "ax.set_title('Numero di vaccini per ogni fornitore di una regione inserita.')\n",
        "ax.legend()\n",
        "\n",
        "plt.xticks(rotation=90, fontsize=15)"
      ],
      "metadata": {
        "id": "thfKz3dSjWKG"
      },
      "execution_count": null,
      "outputs": []
    },
    {
      "cell_type": "code",
      "source": [
        "fig,ax = plt.subplots(figsize=(10,8))\n",
        "ax.barh(df_graph['forn'],df_graph['numero_dosi'],label='Numero vaccinati')\n",
        "ax.set_xlabel('Numero dosi')\n",
        "ax.set_ylabel('Fornitori')\n",
        "ax.set_title('Numero di vaccini per ogni fornitore di una regione inserita.')\n",
        "ax.legend()"
      ],
      "metadata": {
        "id": "ce_Xuwt1tYGp"
      },
      "execution_count": null,
      "outputs": []
    },
    {
      "cell_type": "markdown",
      "source": [
        "8. visualizzare le informazioni dell'esercizio 6 con un grafico a torta\n"
      ],
      "metadata": {
        "id": "P6AqSDcXjWbl"
      }
    },
    {
      "cell_type": "code",
      "source": [
        "plt.figure(figsize=(10,8))\n",
        "plt.pie(df_graph['numero_dosi'],labels=df_graph['forn'], autopct='%1.1f%%')\n",
        "plt.show()"
      ],
      "metadata": {
        "id": "q0W2oKzPjYSR",
        "colab": {
          "base_uri": "https://localhost:8080/",
          "height": 207
        },
        "outputId": "950dab39-3dab-4814-8e44-62a9a3a78e88"
      },
      "execution_count": null,
      "outputs": [
        {
          "output_type": "error",
          "ename": "NameError",
          "evalue": "ignored",
          "traceback": [
            "\u001b[0;31m---------------------------------------------------------------------------\u001b[0m",
            "\u001b[0;31mNameError\u001b[0m                                 Traceback (most recent call last)",
            "\u001b[0;32m<ipython-input-5-1c40913e634f>\u001b[0m in \u001b[0;36m<module>\u001b[0;34m\u001b[0m\n\u001b[0;32m----> 1\u001b[0;31m \u001b[0mplt\u001b[0m\u001b[0;34m.\u001b[0m\u001b[0mfigure\u001b[0m\u001b[0;34m(\u001b[0m\u001b[0mfigsize\u001b[0m\u001b[0;34m=\u001b[0m\u001b[0;34m(\u001b[0m\u001b[0;36m10\u001b[0m\u001b[0;34m,\u001b[0m\u001b[0;36m8\u001b[0m\u001b[0;34m)\u001b[0m\u001b[0;34m)\u001b[0m\u001b[0;34m\u001b[0m\u001b[0;34m\u001b[0m\u001b[0m\n\u001b[0m\u001b[1;32m      2\u001b[0m \u001b[0mplt\u001b[0m\u001b[0;34m.\u001b[0m\u001b[0mpie\u001b[0m\u001b[0;34m(\u001b[0m\u001b[0mdf_graph\u001b[0m\u001b[0;34m[\u001b[0m\u001b[0;34m'numero_dosi'\u001b[0m\u001b[0;34m]\u001b[0m\u001b[0;34m,\u001b[0m\u001b[0mlabels\u001b[0m\u001b[0;34m=\u001b[0m\u001b[0mdf_graph\u001b[0m\u001b[0;34m[\u001b[0m\u001b[0;34m'forn'\u001b[0m\u001b[0;34m]\u001b[0m\u001b[0;34m,\u001b[0m \u001b[0mautopct\u001b[0m\u001b[0;34m=\u001b[0m\u001b[0;34m'%1.1f%%'\u001b[0m\u001b[0;34m,\u001b[0m \u001b[0mlabel_distance\u001b[0m\u001b[0;34m=\u001b[0m\u001b[0;36m1\u001b[0m\u001b[0;34m)\u001b[0m\u001b[0;34m\u001b[0m\u001b[0;34m\u001b[0m\u001b[0m\n\u001b[1;32m      3\u001b[0m \u001b[0mplt\u001b[0m\u001b[0;34m.\u001b[0m\u001b[0mshow\u001b[0m\u001b[0;34m(\u001b[0m\u001b[0;34m)\u001b[0m\u001b[0;34m\u001b[0m\u001b[0;34m\u001b[0m\u001b[0m\n",
            "\u001b[0;31mNameError\u001b[0m: name 'plt' is not defined"
          ]
        }
      ]
    },
    {
      "cell_type": "markdown",
      "source": [
        "9. visualizzare le informazioni dell'esercizio 6 con un grafico treemap (cercare su internet)\n"
      ],
      "metadata": {
        "id": "3l3cGOJIjYf0"
      }
    },
    {
      "cell_type": "code",
      "source": [
        "!ls"
      ],
      "metadata": {
        "id": "dor1fuKiFlu5"
      },
      "execution_count": null,
      "outputs": []
    },
    {
      "cell_type": "code",
      "source": [
        "import squarify\n",
        "\n",
        "squarify.plot(sizes=df_graph['numero_dosi'], label=df_graph['forn'], alpha=.8, color=['blue','red','yellow'] )\n",
        "plt.show()"
      ],
      "metadata": {
        "id": "fMRfQ28djeq5"
      },
      "execution_count": null,
      "outputs": []
    },
    {
      "cell_type": "markdown",
      "source": [
        "10. visualizzare i nomi delle tre regioni in cui sono stati consegnati più vaccini\n"
      ],
      "metadata": {
        "id": "Ukif11Sgje2c"
      }
    },
    {
      "cell_type": "code",
      "source": [
        "df_graph[:3]"
      ],
      "metadata": {
        "id": "FI4FzIsQjf1b"
      },
      "execution_count": null,
      "outputs": []
    },
    {
      "cell_type": "markdown",
      "source": [
        "11. visualizzare i nomi delle regioni in cui sono stati consegnati un numero di vaccini inferiore alla media dei vaccini consegnati nelle regioni\n"
      ],
      "metadata": {
        "id": "vwK1eZdDjgEy"
      }
    },
    {
      "cell_type": "code",
      "source": [
        "df_graph[df_graph['numero_dosi'] < df_graph['numero_dosi'].mean()][['reg']]"
      ],
      "metadata": {
        "id": "VZO7hX5wjg-X"
      },
      "execution_count": null,
      "outputs": []
    },
    {
      "cell_type": "markdown",
      "source": [
        "12. visualizzare il grafico delle consegne dei vaccini in Lombardia e nel Lazio. Visualizzare solo i dati delle\n",
        "consegne avvenute negli ultimi sei mesi. Fare in modo che la data sia determinata in modo automatico (cercare su internet)"
      ],
      "metadata": {
        "id": "dHknDH07jhM8"
      }
    },
    {
      "cell_type": "code",
      "source": [],
      "metadata": {
        "id": "iAVk2D-HjhkB"
      },
      "execution_count": null,
      "outputs": []
    }
  ]
}