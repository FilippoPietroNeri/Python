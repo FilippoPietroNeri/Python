{
  "nbformat": 4,
  "nbformat_minor": 0,
  "metadata": {
    "colab": {
      "provenance": [],
      "collapsed_sections": [],
      "authorship_tag": "ABX9TyPCimyzjZ4X3lX4RbBG4P8O",
      "include_colab_link": true
    },
    "kernelspec": {
      "name": "python3",
      "display_name": "Python 3"
    },
    "language_info": {
      "name": "python"
    }
  },
  "cells": [
    {
      "cell_type": "markdown",
      "metadata": {
        "id": "view-in-github",
        "colab_type": "text"
      },
      "source": [
        "<a href=\"https://colab.research.google.com/github/FilippoPietroNeri/Python/blob/main/Esercizi.ipynb\" target=\"_parent\"><img src=\"https://colab.research.google.com/assets/colab-badge.svg\" alt=\"Open In Colab\"/></a>"
      ]
    },
    {
      "cell_type": "code",
      "execution_count": null,
      "metadata": {
        "colab": {
          "base_uri": "https://localhost:8080/"
        },
        "id": "Dp4oUAI6BuCS",
        "outputId": "6245645a-29a4-4b5a-b084-48969cbbdd27"
      },
      "outputs": [
        {
          "output_type": "stream",
          "name": "stdout",
          "text": [
            "Hello World!\n"
          ]
        }
      ],
      "source": [
        "print(\"Hello World!\")"
      ]
    },
    {
      "cell_type": "code",
      "source": [
        "a = 10\n",
        "b = 20\n",
        "c = 10.5\n",
        "\n",
        "print(a,b,c)"
      ],
      "metadata": {
        "colab": {
          "base_uri": "https://localhost:8080/"
        },
        "id": "yKI5PXFpFZUI",
        "outputId": "ce4e8033-891c-4e71-ffc1-ab3958d6684e"
      },
      "execution_count": null,
      "outputs": [
        {
          "output_type": "stream",
          "name": "stdout",
          "text": [
            "10 20 10.5\n"
          ]
        }
      ]
    },
    {
      "cell_type": "code",
      "source": [
        "somma = a + b\n",
        "sottrazione = a - b\n",
        "moltiplicazione = a * b\n",
        "divisione = a / b\n",
        "\n",
        "print(somma,sottrazione,moltiplicazione,divisione)"
      ],
      "metadata": {
        "colab": {
          "base_uri": "https://localhost:8080/"
        },
        "id": "WLwdUwEnFwxN",
        "outputId": "69222bcf-0b81-4c15-b06d-ea3c7ce5c333"
      },
      "execution_count": null,
      "outputs": [
        {
          "output_type": "stream",
          "name": "stdout",
          "text": [
            "30 -10 200 0.5\n"
          ]
        }
      ]
    },
    {
      "cell_type": "code",
      "source": [
        "# Inserimento dei dati\n",
        "\n",
        "peso = input(\"Inserisci il tuo peso: \")\n",
        "altezza = input(\"Inserisci la tua altezza: \")\n",
        "imc = int(peso) / (float(altezza) * float(altezza))\n",
        "status = \"\"\n",
        "\n",
        "if imc < 16:\n",
        "  status = \"Greve Magrezza\"\n",
        "elif imc < 18.49:\n",
        "  status = \"Sottopeso\"\n",
        "elif imc < 24.99:\n",
        "  status = \"Normopeso\"\n",
        "elif imc < 29.99:\n",
        "  status = \"Sovrappeso\"\n",
        "elif imc < 34.99:\n",
        "  status = \"Obeso Classe 1\"\n",
        "elif imc < 39.99:\n",
        "  status = \"Obeso Classe 2\"\n",
        "else:\n",
        "  status = \"Obeso Classe 3\"\n",
        "\n",
        "print(\"Il tuo indice di massa corporea è\",imc)\n",
        "print(\"Sei\",status)\n",
        "\n"
      ],
      "metadata": {
        "id": "s5HauF2rGeSw"
      },
      "execution_count": null,
      "outputs": []
    },
    {
      "cell_type": "code",
      "source": [
        "# Scrivere un programma che calcoli le tasse da pagare\n",
        "# Se il reddito è inferiore a 30000 euro si paga il 15%\n",
        "# Se il reddito è compreso fra 30000 e 60000 si paga il 20%\n",
        "# Se il reddito è superiore a 60000 si paga il 30%\n",
        "\n",
        "reddito = int(input(\"Inserisci il tuo reddito:\"))\n",
        "tassa = 0\n",
        "\n",
        "if reddito < 30000:\n",
        "  tassa = reddito / 100 * 15\n",
        "elif reddito > 30000 and reddito < 60000:\n",
        "  tassa = reddito / 100 * 20\n",
        "else:\n",
        "  tassa = reddito / 100 * 30\n",
        "\n",
        "print(\"Con il tuo reddito di\",reddito,\"€ devi pagare\",round(tassa),\"€\")\n"
      ],
      "metadata": {
        "colab": {
          "base_uri": "https://localhost:8080/"
        },
        "id": "U6mxoeCbPDSH",
        "outputId": "362061ec-8885-4477-c4ff-6e2b84b7e22a"
      },
      "execution_count": null,
      "outputs": [
        {
          "output_type": "stream",
          "name": "stdout",
          "text": [
            "Inserisci il tuo reddito:40000\n",
            "Con il tuo reddito di 40000 € devi pagare 8000 €\n"
          ]
        }
      ]
    },
    {
      "cell_type": "code",
      "source": [
        "# Un negozio vuole incentivare gli acquisti applicando sconti maggiori a chi spende di più\n",
        "# Se un cliente spende fino a 100€ deve essere fatto lo sconto del 15%\n",
        "# Se spende da 100€ a 200€ lo sconto è del 20%\n",
        "# Se spende da 200€ a 300€ lo sconto è del 40%\n",
        "# Se spende oltre a 400€ lo sconto è del 60%\n",
        "\n",
        "# Scrivere un programma che dato il totale dell'acquisto calcoli il prezzo finale che il cliente\n",
        "# deve pagare.\n",
        "\n",
        "spesa = int(input('Inserisci quanto hai speso: '))\n",
        "totale = 0\n",
        "\n",
        "if spesa <= 100:\n",
        "  totale = spesa / 100 * 15\n",
        "elif spesa > 100 and spesa < 200:\n",
        "  totale = spesa / 100 * 20\n",
        "elif spesa > 200 and spesa < 300:\n",
        "  totale = spesa / 100 * 40\n",
        "else:\n",
        "  totale = spesa / 100 * 60\n",
        "\n",
        "print(\"La tua spesa con lo sconto è di:\",totale,\"€\")\n"
      ],
      "metadata": {
        "colab": {
          "base_uri": "https://localhost:8080/"
        },
        "id": "AwcrUZZdQmlJ",
        "outputId": "105d85ef-69f6-4c34-889d-3e1aaa226a0b"
      },
      "execution_count": null,
      "outputs": [
        {
          "output_type": "stream",
          "name": "stdout",
          "text": [
            "Inserisci quanto hai speso: 100\n",
            "La tua spesa con lo sconto è di: 15.0 €\n"
          ]
        }
      ]
    }
  ]
}